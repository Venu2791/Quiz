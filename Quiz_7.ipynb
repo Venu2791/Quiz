{
  "nbformat": 4,
  "nbformat_minor": 0,
  "metadata": {
    "colab": {
      "name": "Quiz 7.ipynb",
      "version": "0.3.2",
      "provenance": [],
      "collapsed_sections": [],
      "include_colab_link": true
    },
    "kernelspec": {
      "name": "python3",
      "display_name": "Python 3"
    },
    "accelerator": "GPU"
  },
  "cells": [
    {
      "cell_type": "markdown",
      "metadata": {
        "id": "view-in-github",
        "colab_type": "text"
      },
      "source": [
        "<a href=\"https://colab.research.google.com/github/Venu2791/Quiz/blob/master/Quiz_7.ipynb\" target=\"_parent\"><img src=\"https://colab.research.google.com/assets/colab-badge.svg\" alt=\"Open In Colab\"/></a>"
      ]
    },
    {
      "cell_type": "markdown",
      "metadata": {
        "id": "aNyZv-Ec52ot",
        "colab_type": "text"
      },
      "source": [
        "# **Import Libraries and modules**"
      ]
    },
    {
      "cell_type": "code",
      "metadata": {
        "id": "3m3w1Cw49Zkt",
        "colab_type": "code",
        "outputId": "53971b08-c1df-4afd-8b76-129d2a788aec",
        "colab": {
          "base_uri": "https://localhost:8080/",
          "height": 34
        }
      },
      "source": [
        "# https://keras.io/\n",
        "!pip install -q keras\n",
        "import datetime\n",
        "import keras\n",
        "print(datetime.datetime.now())"
      ],
      "execution_count": 26,
      "outputs": [
        {
          "output_type": "stream",
          "text": [
            "2019-09-04 17:48:01.236948\n"
          ],
          "name": "stdout"
        }
      ]
    },
    {
      "cell_type": "code",
      "metadata": {
        "id": "Eso6UHE080D4",
        "colab_type": "code",
        "outputId": "a08fb5ba-137b-4b9e-fb32-06a6ae23b40a",
        "colab": {
          "base_uri": "https://localhost:8080/",
          "height": 34
        }
      },
      "source": [
        "import numpy as np\n",
        "\n",
        "from keras.models import Sequential\n",
        "from keras.layers import Dense, Dropout, Activation, Flatten, Add\n",
        "from keras.layers import Convolution2D, MaxPooling2D\n",
        "from keras.utils import np_utils\n",
        "\n",
        "from keras.datasets import mnist\n",
        "print(datetime.datetime.now())"
      ],
      "execution_count": 27,
      "outputs": [
        {
          "output_type": "stream",
          "text": [
            "2019-09-04 17:48:01.253308\n"
          ],
          "name": "stdout"
        }
      ]
    },
    {
      "cell_type": "markdown",
      "metadata": {
        "id": "zByEi95J86RD",
        "colab_type": "text"
      },
      "source": [
        "### Load pre-shuffled MNIST data into train and test sets"
      ]
    },
    {
      "cell_type": "code",
      "metadata": {
        "id": "7eRM0QWN83PV",
        "colab_type": "code",
        "outputId": "fc2f6a3e-a854-4b33-830b-7865206a005c",
        "colab": {
          "base_uri": "https://localhost:8080/",
          "height": 34
        }
      },
      "source": [
        "(X_train, y_train), (X_test, y_test) = mnist.load_data()\n",
        "print(datetime.datetime.now())"
      ],
      "execution_count": 28,
      "outputs": [
        {
          "output_type": "stream",
          "text": [
            "2019-09-04 17:48:01.590280\n"
          ],
          "name": "stdout"
        }
      ]
    },
    {
      "cell_type": "code",
      "metadata": {
        "id": "4a4Be72j8-ZC",
        "colab_type": "code",
        "outputId": "e413b702-4469-4e23-ef2a-e02c4842500f",
        "colab": {
          "base_uri": "https://localhost:8080/",
          "height": 304
        }
      },
      "source": [
        "print (X_train.shape)\n",
        "from matplotlib import pyplot as plt\n",
        "%matplotlib inline\n",
        "plt.imshow(X_train[0])\n",
        "print(datetime.datetime.now())"
      ],
      "execution_count": 29,
      "outputs": [
        {
          "output_type": "stream",
          "text": [
            "(60000, 28, 28)\n",
            "2019-09-04 17:48:01.622193\n"
          ],
          "name": "stdout"
        },
        {
          "output_type": "display_data",
          "data": {
            "image/png": "[encoded data removed]",
            "text/plain": [
              "<Figure size 432x288 with 1 Axes>"
            ]
          },
          "metadata": {
            "tags": []
          }
        }
      ]
    },
    {
      "cell_type": "code",
      "metadata": {
        "id": "dkmprriw9AnZ",
        "colab_type": "code",
        "outputId": "4206bace-2d67-44c1-bff9-cd7b57b179a4",
        "colab": {
          "base_uri": "https://localhost:8080/",
          "height": 34
        }
      },
      "source": [
        "X_train = X_train.reshape(X_train.shape[0], 28, 28,1)\n",
        "X_test = X_test.reshape(X_test.shape[0], 28, 28,1)\n",
        "print(datetime.datetime.now())"
      ],
      "execution_count": 30,
      "outputs": [
        {
          "output_type": "stream",
          "text": [
            "2019-09-04 17:48:01.837364\n"
          ],
          "name": "stdout"
        }
      ]
    },
    {
      "cell_type": "code",
      "metadata": {
        "id": "X2m4YS4E9CRh",
        "colab_type": "code",
        "outputId": "4bffc6fa-22fb-4864-d791-001ad50a9d39",
        "colab": {
          "base_uri": "https://localhost:8080/",
          "height": 34
        }
      },
      "source": [
        "X_train = X_train.astype('float32')\n",
        "X_test = X_test.astype('float32')\n",
        "X_train /= 255\n",
        "X_test /= 255\n",
        "print(datetime.datetime.now())"
      ],
      "execution_count": 31,
      "outputs": [
        {
          "output_type": "stream",
          "text": [
            "2019-09-04 17:48:01.996267\n"
          ],
          "name": "stdout"
        }
      ]
    },
    {
      "cell_type": "code",
      "metadata": {
        "id": "0Mn0vAYD9DvB",
        "colab_type": "code",
        "outputId": "a02651af-8d9a-49ee-f40a-7632bd105e3c",
        "colab": {
          "base_uri": "https://localhost:8080/",
          "height": 34
        }
      },
      "source": [
        "y_train[:10]\n",
        "print(datetime.datetime.now())"
      ],
      "execution_count": 32,
      "outputs": [
        {
          "output_type": "stream",
          "text": [
            "2019-09-04 17:48:02.005134\n"
          ],
          "name": "stdout"
        }
      ]
    },
    {
      "cell_type": "code",
      "metadata": {
        "id": "ZG8JiXR39FHC",
        "colab_type": "code",
        "outputId": "f6d3c962-3138-4a9a-be77-5a56f1a4eda2",
        "colab": {
          "base_uri": "https://localhost:8080/",
          "height": 34
        }
      },
      "source": [
        "# Convert 1-dimensional class arrays to 10-dimensional class matrices\n",
        "Y_train = np_utils.to_categorical(y_train, 10)\n",
        "Y_test = np_utils.to_categorical(y_test, 10)\n",
        "print(datetime.datetime.now())"
      ],
      "execution_count": 33,
      "outputs": [
        {
          "output_type": "stream",
          "text": [
            "2019-09-04 17:48:02.020560\n"
          ],
          "name": "stdout"
        }
      ]
    },
    {
      "cell_type": "code",
      "metadata": {
        "id": "fYlFRvKS9HMB",
        "colab_type": "code",
        "outputId": "093b41f3-aef8-4ca7-bb5d-d82a85f66e1a",
        "colab": {
          "base_uri": "https://localhost:8080/",
          "height": 34
        }
      },
      "source": [
        "Y_train[:10]\n",
        "print(datetime.datetime.now())"
      ],
      "execution_count": 34,
      "outputs": [
        {
          "output_type": "stream",
          "text": [
            "2019-09-04 17:48:02.030506\n"
          ],
          "name": "stdout"
        }
      ]
    },
    {
      "cell_type": "code",
      "metadata": {
        "id": "osKqT73Q9JJB",
        "colab_type": "code",
        "outputId": "ebc51435-bba2-44dc-d674-39fb1bd9f797",
        "colab": {
          "base_uri": "https://localhost:8080/",
          "height": 211
        }
      },
      "source": [
        "## MAIN BLOCK\n",
        "from keras.layers import Activation\n",
        "from keras.layers import Input, Conv2D,MaxPooling2D\n",
        "from keras.models import Model\n",
        "\n",
        "# model = Sequential()\n",
        "\n",
        "Inputs=Input(shape=(28,28,1))\n",
        "\n",
        "# model.add(Convolution2D(32, 3, 3, activation='relu', input_shape=(28,28,1)))\n",
        "# model.add(Convolution2D(10, 1, activation='relu'))\n",
        "# model.add(Convolution2D(10, 26))\n",
        "# model.add(Flatten())\n",
        "# model.add(Activation('softmax'))\n",
        "x1=Inputs\n",
        "\n",
        "x2=Conv2D(32,(3,3),border_mode=\"same\",activation=\"relu\")(x1)\n",
        "\n",
        "merge_1=keras.layers.concatenate([x1,x2],axis=3)\n",
        "\n",
        "x3=Conv2D(32,(3,3),border_mode=\"same\",activation=\"relu\")(merge_1)\n",
        "\n",
        "merge_2=keras.layers.concatenate([x1,x2,x3],axis=3)\n",
        "\n",
        "x4=MaxPooling2D(pool_size=(2, 2))(merge_2)\n",
        "\n",
        "x5=Conv2D(32,(3,3),border_mode=\"same\",activation=\"relu\")(x4)\n",
        "\n",
        "merge_3=keras.layers.concatenate([x4,x5],axis=3)\n",
        "\n",
        "x6=Conv2D(32,(3,3),border_mode=\"same\",activation=\"relu\")(merge_3)\n",
        "\n",
        "merge_4=keras.layers.concatenate([x4,x5,x6],axis=3)\n",
        "\n",
        "x7=Conv2D(32,(3,3),border_mode=\"same\",activation=\"relu\")(merge_4)\n",
        "\n",
        "merge_5=keras.layers.concatenate([x5,x6,x7],axis=3)\n",
        "\n",
        "x8=MaxPooling2D(pool_size=(2,2))(x7)\n",
        "\n",
        "x9=Conv2D(32,(3,3),border_mode=\"same\",activation=\"relu\")(x8)\n",
        "\n",
        "merge_6=keras.layers.concatenate([x8,x9],axis=3)\n",
        "\n",
        "x10=Conv2D(32,(3,3),border_mode=\"same\")(merge_6)\n",
        "\n",
        "merge_7=keras.layers.concatenate([x8,x9,x10],axis=3)\n",
        "\n",
        "x11=Conv2D(32,(3,3),border_mode=\"same\") (merge_7)\n",
        "\n",
        "x12=Conv2D(10,(7,7))(x11)\n",
        "\n",
        "x13=Flatten()(x12)\n",
        "\n",
        "output=Activation(\"softmax\")(x13)\n",
        "\n",
        "model=Model(inputs=Inputs,outputs=output)\n",
        "\n",
        "print(datetime.datetime.now())"
      ],
      "execution_count": 35,
      "outputs": [
        {
          "output_type": "stream",
          "text": [
            "2019-09-04 17:48:02.233431\n"
          ],
          "name": "stdout"
        },
        {
          "output_type": "stream",
          "text": [
            "/usr/local/lib/python3.6/dist-packages/ipykernel_launcher.py:16: UserWarning: Update your `Conv2D` call to the Keras 2 API: `Conv2D(32, (3, 3), activation=\"relu\", padding=\"same\")`\n",
            "  app.launch_new_instance()\n",
            "/usr/local/lib/python3.6/dist-packages/ipykernel_launcher.py:20: UserWarning: Update your `Conv2D` call to the Keras 2 API: `Conv2D(32, (3, 3), activation=\"relu\", padding=\"same\")`\n",
            "/usr/local/lib/python3.6/dist-packages/ipykernel_launcher.py:26: UserWarning: Update your `Conv2D` call to the Keras 2 API: `Conv2D(32, (3, 3), activation=\"relu\", padding=\"same\")`\n",
            "/usr/local/lib/python3.6/dist-packages/ipykernel_launcher.py:30: UserWarning: Update your `Conv2D` call to the Keras 2 API: `Conv2D(32, (3, 3), activation=\"relu\", padding=\"same\")`\n",
            "/usr/local/lib/python3.6/dist-packages/ipykernel_launcher.py:34: UserWarning: Update your `Conv2D` call to the Keras 2 API: `Conv2D(32, (3, 3), activation=\"relu\", padding=\"same\")`\n",
            "/usr/local/lib/python3.6/dist-packages/ipykernel_launcher.py:40: UserWarning: Update your `Conv2D` call to the Keras 2 API: `Conv2D(32, (3, 3), activation=\"relu\", padding=\"same\")`\n",
            "/usr/local/lib/python3.6/dist-packages/ipykernel_launcher.py:44: UserWarning: Update your `Conv2D` call to the Keras 2 API: `Conv2D(32, (3, 3), padding=\"same\")`\n",
            "/usr/local/lib/python3.6/dist-packages/ipykernel_launcher.py:48: UserWarning: Update your `Conv2D` call to the Keras 2 API: `Conv2D(32, (3, 3), padding=\"same\")`\n"
          ],
          "name": "stderr"
        }
      ]
    },
    {
      "cell_type": "code",
      "metadata": {
        "id": "TzdAYg1k9K7Z",
        "colab_type": "code",
        "colab": {
          "base_uri": "https://localhost:8080/",
          "height": 1000
        },
        "outputId": "a693f25e-4592-4ce6-c04c-714799be1b32"
      },
      "source": [
        "model.summary()\n",
        "\n",
        "print(datetime.datetime.now())"
      ],
      "execution_count": 36,
      "outputs": [
        {
          "output_type": "stream",
          "text": [
            "Model: \"model_4\"\n",
            "__________________________________________________________________________________________________\n",
            "Layer (type)                    Output Shape         Param #     Connected to                     \n",
            "==================================================================================================\n",
            "input_8 (InputLayer)            (None, 28, 28, 1)    0                                            \n",
            "__________________________________________________________________________________________________\n",
            "conv2d_64 (Conv2D)              (None, 28, 28, 32)   320         input_8[0][0]                    \n",
            "__________________________________________________________________________________________________\n",
            "concatenate_50 (Concatenate)    (None, 28, 28, 33)   0           input_8[0][0]                    \n",
            "                                                                 conv2d_64[0][0]                  \n",
            "__________________________________________________________________________________________________\n",
            "conv2d_65 (Conv2D)              (None, 28, 28, 32)   9536        concatenate_50[0][0]             \n",
            "__________________________________________________________________________________________________\n",
            "concatenate_51 (Concatenate)    (None, 28, 28, 65)   0           input_8[0][0]                    \n",
            "                                                                 conv2d_64[0][0]                  \n",
            "                                                                 conv2d_65[0][0]                  \n",
            "__________________________________________________________________________________________________\n",
            "max_pooling2d_15 (MaxPooling2D) (None, 14, 14, 65)   0           concatenate_51[0][0]             \n",
            "__________________________________________________________________________________________________\n",
            "conv2d_66 (Conv2D)              (None, 14, 14, 32)   18752       max_pooling2d_15[0][0]           \n",
            "__________________________________________________________________________________________________\n",
            "concatenate_52 (Concatenate)    (None, 14, 14, 97)   0           max_pooling2d_15[0][0]           \n",
            "                                                                 conv2d_66[0][0]                  \n",
            "__________________________________________________________________________________________________\n",
            "conv2d_67 (Conv2D)              (None, 14, 14, 32)   27968       concatenate_52[0][0]             \n",
            "__________________________________________________________________________________________________\n",
            "concatenate_53 (Concatenate)    (None, 14, 14, 129)  0           max_pooling2d_15[0][0]           \n",
            "                                                                 conv2d_66[0][0]                  \n",
            "                                                                 conv2d_67[0][0]                  \n",
            "__________________________________________________________________________________________________\n",
            "conv2d_68 (Conv2D)              (None, 14, 14, 32)   37184       concatenate_53[0][0]             \n",
            "__________________________________________________________________________________________________\n",
            "max_pooling2d_16 (MaxPooling2D) (None, 7, 7, 32)     0           conv2d_68[0][0]                  \n",
            "__________________________________________________________________________________________________\n",
            "conv2d_69 (Conv2D)              (None, 7, 7, 32)     9248        max_pooling2d_16[0][0]           \n",
            "__________________________________________________________________________________________________\n",
            "concatenate_55 (Concatenate)    (None, 7, 7, 64)     0           max_pooling2d_16[0][0]           \n",
            "                                                                 conv2d_69[0][0]                  \n",
            "__________________________________________________________________________________________________\n",
            "conv2d_70 (Conv2D)              (None, 7, 7, 32)     18464       concatenate_55[0][0]             \n",
            "__________________________________________________________________________________________________\n",
            "concatenate_56 (Concatenate)    (None, 7, 7, 96)     0           max_pooling2d_16[0][0]           \n",
            "                                                                 conv2d_69[0][0]                  \n",
            "                                                                 conv2d_70[0][0]                  \n",
            "__________________________________________________________________________________________________\n",
            "conv2d_71 (Conv2D)              (None, 7, 7, 32)     27680       concatenate_56[0][0]             \n",
            "__________________________________________________________________________________________________\n",
            "conv2d_72 (Conv2D)              (None, 1, 1, 10)     15690       conv2d_71[0][0]                  \n",
            "__________________________________________________________________________________________________\n",
            "flatten_4 (Flatten)             (None, 10)           0           conv2d_72[0][0]                  \n",
            "__________________________________________________________________________________________________\n",
            "activation_4 (Activation)       (None, 10)           0           flatten_4[0][0]                  \n",
            "==================================================================================================\n",
            "Total params: 164,842\n",
            "Trainable params: 164,842\n",
            "Non-trainable params: 0\n",
            "__________________________________________________________________________________________________\n",
            "2019-09-04 17:48:02.258701\n"
          ],
          "name": "stdout"
        }
      ]
    },
    {
      "cell_type": "code",
      "metadata": {
        "id": "Zp6SuGrL9M3h",
        "colab_type": "code",
        "colab": {
          "base_uri": "https://localhost:8080/",
          "height": 34
        },
        "outputId": "5ec5e1f1-270d-4864-9323-86aab0d6bcbc"
      },
      "source": [
        "model.compile(loss='categorical_crossentropy',\n",
        "             optimizer='adam',\n",
        "             metrics=['accuracy'])\n",
        "print(datetime.datetime.now())"
      ],
      "execution_count": 37,
      "outputs": [
        {
          "output_type": "stream",
          "text": [
            "2019-09-04 17:48:02.311259\n"
          ],
          "name": "stdout"
        }
      ]
    },
    {
      "cell_type": "code",
      "metadata": {
        "id": "4xWoKhPY9Of5",
        "colab_type": "code",
        "colab": {
          "base_uri": "https://localhost:8080/",
          "height": 416
        },
        "outputId": "505fddb8-efd0-41d1-afde-4e8e12ba368f"
      },
      "source": [
        "model.fit(X_train, Y_train, batch_size=32, nb_epoch=10, verbose=1)\n",
        "print(datetime.datetime.now())"
      ],
      "execution_count": 38,
      "outputs": [
        {
          "output_type": "stream",
          "text": [
            "/usr/local/lib/python3.6/dist-packages/ipykernel_launcher.py:1: UserWarning: The `nb_epoch` argument in `fit` has been renamed `epochs`.\n",
            "  \"\"\"Entry point for launching an IPython kernel.\n"
          ],
          "name": "stderr"
        },
        {
          "output_type": "stream",
          "text": [
            "Epoch 1/10\n",
            "60000/60000 [==============================] - 34s 560us/step - loss: 0.1126 - acc: 0.9654\n",
            "Epoch 2/10\n",
            "60000/60000 [==============================] - 31s 515us/step - loss: 0.0469 - acc: 0.9858\n",
            "Epoch 3/10\n",
            "60000/60000 [==============================] - 30s 507us/step - loss: 0.0361 - acc: 0.9890\n",
            "Epoch 4/10\n",
            "60000/60000 [==============================] - 30s 504us/step - loss: 0.0299 - acc: 0.9905\n",
            "Epoch 5/10\n",
            "60000/60000 [==============================] - 30s 498us/step - loss: 0.0256 - acc: 0.9919\n",
            "Epoch 6/10\n",
            "60000/60000 [==============================] - 30s 492us/step - loss: 0.0238 - acc: 0.9925\n",
            "Epoch 7/10\n",
            "60000/60000 [==============================] - 29s 491us/step - loss: 0.0205 - acc: 0.9935\n",
            "Epoch 8/10\n",
            "60000/60000 [==============================] - 30s 493us/step - loss: 0.0196 - acc: 0.9941\n",
            "Epoch 9/10\n",
            "60000/60000 [==============================] - 30s 493us/step - loss: 0.0180 - acc: 0.9946\n",
            "Epoch 10/10\n",
            "60000/60000 [==============================] - 29s 491us/step - loss: 0.0163 - acc: 0.9951\n",
            "2019-09-04 17:53:05.875294\n"
          ],
          "name": "stdout"
        }
      ]
    },
    {
      "cell_type": "code",
      "metadata": {
        "id": "AtsH-lLk-eLb",
        "colab_type": "code",
        "colab": {
          "base_uri": "https://localhost:8080/",
          "height": 34
        },
        "outputId": "fab54bf0-5d1c-479d-993b-1aeb3fa3ecc6"
      },
      "source": [
        "score = model.evaluate(X_test, Y_test, verbose=0)\n",
        "print(datetime.datetime.now())"
      ],
      "execution_count": 39,
      "outputs": [
        {
          "output_type": "stream",
          "text": [
            "2019-09-04 17:53:07.509882\n"
          ],
          "name": "stdout"
        }
      ]
    },
    {
      "cell_type": "code",
      "metadata": {
        "id": "mkX8JMv79q9r",
        "colab_type": "code",
        "colab": {
          "base_uri": "https://localhost:8080/",
          "height": 52
        },
        "outputId": "47a29022-7bac-43f6-e584-a9cf517b5e2e"
      },
      "source": [
        "print(score)\n",
        "print(datetime.datetime.now())"
      ],
      "execution_count": 40,
      "outputs": [
        {
          "output_type": "stream",
          "text": [
            "[0.03732684087060247, 0.9914]\n",
            "2019-09-04 17:53:07.523392\n"
          ],
          "name": "stdout"
        }
      ]
    }
  ]
}